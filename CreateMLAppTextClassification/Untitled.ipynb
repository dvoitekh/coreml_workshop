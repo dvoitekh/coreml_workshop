{
 "cells": [
  {
   "cell_type": "code",
   "execution_count": 5,
   "id": "22a7f69e-57ee-40d3-b0b0-62b87b0bf737",
   "metadata": {},
   "outputs": [],
   "source": [
    "# !pip install scikit-learn tqdm torchtext torchdata"
   ]
  },
  {
   "cell_type": "code",
   "execution_count": 1,
   "id": "b56a98e9-233c-418e-8f15-4971045dd0e7",
   "metadata": {},
   "outputs": [],
   "source": [
    "from sklearn.datasets import fetch_20newsgroups\n",
    "newsgroups = fetch_20newsgroups(subset='all', data_home='./')"
   ]
  },
  {
   "cell_type": "code",
   "execution_count": 2,
   "id": "e21162ce-06f3-45ed-8168-17502ac8320c",
   "metadata": {},
   "outputs": [
    {
     "data": {
      "text/plain": [
       "dict_keys(['data', 'filenames', 'target_names', 'target', 'DESCR'])"
      ]
     },
     "execution_count": 2,
     "metadata": {},
     "output_type": "execute_result"
    }
   ],
   "source": [
    "newsgroups.keys()"
   ]
  },
  {
   "cell_type": "code",
   "execution_count": 3,
   "id": "705300d6-f41c-442a-8e06-09e4a927d319",
   "metadata": {},
   "outputs": [
    {
     "data": {
      "text/plain": [
       "[\"From: Mamatha Devineni Ratnam <mr47+@andrew.cmu.edu>\\nSubject: Pens fans reactions\\nOrganization: Post Office, Carnegie Mellon, Pittsburgh, PA\\nLines: 12\\nNNTP-Posting-Host: po4.andrew.cmu.edu\\n\\n\\n\\nI am sure some bashers of Pens fans are pretty confused about the lack\\nof any kind of posts about the recent Pens massacre of the Devils. Actually,\\nI am  bit puzzled too and a bit relieved. However, I am going to put an end\\nto non-PIttsburghers' relief with a bit of praise for the Pens. Man, they\\nare killing those Devils worse than I thought. Jagr just showed you why\\nhe is much better than his regular season stats. He is also a lot\\nfo fun to watch in the playoffs. Bowman should let JAgr have a lot of\\nfun in the next couple of games since the Pens are going to beat the pulp out of Jersey anyway. I was very disappointed not to see the Islanders lose the final\\nregular season game.          PENS RULE!!!\\n\\n\",\n",
       " 'From: mblawson@midway.ecn.uoknor.edu (Matthew B Lawson)\\nSubject: Which high-performance VLB video card?\\nSummary: Seek recommendations for VLB video card\\nNntp-Posting-Host: midway.ecn.uoknor.edu\\nOrganization: Engineering Computer Network, University of Oklahoma, Norman, OK, USA\\nKeywords: orchid, stealth, vlb\\nLines: 21\\n\\n  My brother is in the market for a high-performance video card that supports\\nVESA local bus with 1-2MB RAM.  Does anyone have suggestions/ideas on:\\n\\n  - Diamond Stealth Pro Local Bus\\n\\n  - Orchid Farenheit 1280\\n\\n  - ATI Graphics Ultra Pro\\n\\n  - Any other high-performance VLB card\\n\\n\\nPlease post or email.  Thank you!\\n\\n  - Matt\\n\\n-- \\n    |  Matthew B. Lawson <------------> (mblawson@essex.ecn.uoknor.edu)  |   \\n  --+-- \"Now I, Nebuchadnezzar, praise and exalt and glorify the King  --+-- \\n    |   of heaven, because everything he does is right and all his ways  |   \\n    |   are just.\" - Nebuchadnezzar, king of Babylon, 562 B.C.           |   \\n']"
      ]
     },
     "execution_count": 3,
     "metadata": {},
     "output_type": "execute_result"
    }
   ],
   "source": [
    "newsgroups['data'][:2]"
   ]
  },
  {
   "cell_type": "code",
   "execution_count": 4,
   "id": "3412affb-e4cd-410e-a0e1-1117f3713f49",
   "metadata": {},
   "outputs": [
    {
     "data": {
      "text/plain": [
       "array(['./20news_home/20news-bydate-test/rec.sport.hockey/54367',\n",
       "       './20news_home/20news-bydate-train/comp.sys.ibm.pc.hardware/60215',\n",
       "       './20news_home/20news-bydate-train/talk.politics.mideast/76120',\n",
       "       './20news_home/20news-bydate-test/comp.sys.ibm.pc.hardware/60771',\n",
       "       './20news_home/20news-bydate-train/comp.sys.mac.hardware/51882',\n",
       "       './20news_home/20news-bydate-test/sci.electronics/54198',\n",
       "       './20news_home/20news-bydate-test/comp.sys.mac.hardware/52099',\n",
       "       './20news_home/20news-bydate-train/rec.sport.hockey/53767',\n",
       "       './20news_home/20news-bydate-test/rec.sport.hockey/54033',\n",
       "       './20news_home/20news-bydate-test/talk.religion.misc/84236'],\n",
       "      dtype='<U64')"
      ]
     },
     "execution_count": 4,
     "metadata": {},
     "output_type": "execute_result"
    }
   ],
   "source": [
    "newsgroups['filenames'][:10]"
   ]
  },
  {
   "cell_type": "code",
   "execution_count": 7,
   "id": "abf83192-4be2-465f-b741-d88dc2ba72fd",
   "metadata": {},
   "outputs": [
    {
     "data": {
      "text/plain": [
       "'/Users/dmitryvoitekh/Desktop/coreml_workshop/CreateMLAppTextClassification'"
      ]
     },
     "execution_count": 7,
     "metadata": {},
     "output_type": "execute_result"
    }
   ],
   "source": [
    "import os\n",
    "base_dir_path = os.path.join('/Users/dmitryvoitekh/Desktop', 'coreml_workshop/CreateMLAppTextClassification')\n",
    "base_dir_path"
   ]
  },
  {
   "cell_type": "code",
   "execution_count": 9,
   "id": "1070c18f-22c9-4465-90fd-631354bbae1d",
   "metadata": {},
   "outputs": [
    {
     "name": "stderr",
     "output_type": "stream",
     "text": [
      "100%|███████████████████████████████████| 18846/18846 [00:02<00:00, 6966.09it/s]\n"
     ]
    }
   ],
   "source": [
    "import os\n",
    "import tqdm\n",
    "import random\n",
    "\n",
    "for filename, text in tqdm.tqdm(zip(newsgroups['filenames'], newsgroups['data']), total=len(newsgroups['data'])):\n",
    "    filename = os.path.join(base_dir_path, filename)\n",
    "    if random.randint(0, 5) == 5:\n",
    "        dirname = os.path.dirname(filename)\n",
    "        os.makedirs(dirname, exist_ok=True)\n",
    "        with open(f\"{filename}.txt\", 'w') as f:\n",
    "            f.write(text)"
   ]
  },
  {
   "cell_type": "code",
   "execution_count": 10,
   "id": "d2b83f7d-810a-41d9-b763-7a09972f448f",
   "metadata": {},
   "outputs": [
    {
     "data": {
      "text/plain": [
       "(11314, 7532)"
      ]
     },
     "execution_count": 10,
     "metadata": {},
     "output_type": "execute_result"
    }
   ],
   "source": [
    "count_test = 0\n",
    "count_train = 0\n",
    "for x in newsgroups['filenames']:\n",
    "    if '20news-bydate-test' in x:\n",
    "        count_test += 1\n",
    "    else:\n",
    "        count_train += 1\n",
    "count_train, count_test"
   ]
  },
  {
   "cell_type": "code",
   "execution_count": null,
   "id": "ea288c83-279a-4134-b869-bf87db185d76",
   "metadata": {},
   "outputs": [],
   "source": []
  }
 ],
 "metadata": {
  "kernelspec": {
   "display_name": "Python 3 (ipykernel)",
   "language": "python",
   "name": "python3"
  },
  "language_info": {
   "codemirror_mode": {
    "name": "ipython",
    "version": 3
   },
   "file_extension": ".py",
   "mimetype": "text/x-python",
   "name": "python",
   "nbconvert_exporter": "python",
   "pygments_lexer": "ipython3",
   "version": "3.9.6"
  }
 },
 "nbformat": 4,
 "nbformat_minor": 5
}
